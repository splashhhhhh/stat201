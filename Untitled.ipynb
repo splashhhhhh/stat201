{
 "cells": [
  {
   "cell_type": "code",
   "execution_count": 2,
   "id": "cb829533-0519-4688-b1ff-5f4c87340ae5",
   "metadata": {},
   "outputs": [
    {
     "name": "stderr",
     "output_type": "stream",
     "text": [
      "── \u001b[1mAttaching packages\u001b[22m ─────────────────────────────────────── tidyverse 1.3.2 ──\n",
      "\u001b[32m✔\u001b[39m \u001b[34mggplot2\u001b[39m 3.3.6      \u001b[32m✔\u001b[39m \u001b[34mpurrr  \u001b[39m 0.3.4 \n",
      "\u001b[32m✔\u001b[39m \u001b[34mtibble \u001b[39m 3.1.8      \u001b[32m✔\u001b[39m \u001b[34mdplyr  \u001b[39m 1.0.10\n",
      "\u001b[32m✔\u001b[39m \u001b[34mtidyr  \u001b[39m 1.2.1      \u001b[32m✔\u001b[39m \u001b[34mstringr\u001b[39m 1.4.1 \n",
      "\u001b[32m✔\u001b[39m \u001b[34mreadr  \u001b[39m 2.1.2      \u001b[32m✔\u001b[39m \u001b[34mforcats\u001b[39m 0.5.2 \n",
      "── \u001b[1mConflicts\u001b[22m ────────────────────────────────────────── tidyverse_conflicts() ──\n",
      "\u001b[31m✖\u001b[39m \u001b[34mdplyr\u001b[39m::\u001b[32mcombine()\u001b[39m masks \u001b[34mgridExtra\u001b[39m::combine()\n",
      "\u001b[31m✖\u001b[39m \u001b[34mdplyr\u001b[39m::\u001b[32mfilter()\u001b[39m  masks \u001b[34mstats\u001b[39m::filter()\n",
      "\u001b[31m✖\u001b[39m \u001b[34mdplyr\u001b[39m::\u001b[32mlag()\u001b[39m     masks \u001b[34mstats\u001b[39m::lag()\n",
      "── \u001b[1mAttaching packages\u001b[22m ────────────────────────────────────── tidymodels 1.0.0 ──\n",
      "\n",
      "\u001b[32m✔\u001b[39m \u001b[34mdials       \u001b[39m 1.0.0     \u001b[32m✔\u001b[39m \u001b[34mtune        \u001b[39m 1.0.0\n",
      "\u001b[32m✔\u001b[39m \u001b[34mmodeldata   \u001b[39m 1.0.1     \u001b[32m✔\u001b[39m \u001b[34mworkflows   \u001b[39m 1.0.0\n",
      "\u001b[32m✔\u001b[39m \u001b[34mparsnip     \u001b[39m 1.0.1     \u001b[32m✔\u001b[39m \u001b[34mworkflowsets\u001b[39m 1.0.0\n",
      "\u001b[32m✔\u001b[39m \u001b[34mrecipes     \u001b[39m 1.0.1     \u001b[32m✔\u001b[39m \u001b[34myardstick   \u001b[39m 1.1.0\n",
      "\u001b[32m✔\u001b[39m \u001b[34mrsample     \u001b[39m 1.1.0     \n",
      "\n",
      "── \u001b[1mConflicts\u001b[22m ───────────────────────────────────────── tidymodels_conflicts() ──\n",
      "\u001b[31m✖\u001b[39m \u001b[34mdplyr\u001b[39m::\u001b[32mcombine()\u001b[39m  masks \u001b[34mgridExtra\u001b[39m::combine()\n",
      "\u001b[31m✖\u001b[39m \u001b[34mscales\u001b[39m::\u001b[32mdiscard()\u001b[39m masks \u001b[34mpurrr\u001b[39m::discard()\n",
      "\u001b[31m✖\u001b[39m \u001b[34mdplyr\u001b[39m::\u001b[32mfilter()\u001b[39m   masks \u001b[34mstats\u001b[39m::filter()\n",
      "\u001b[31m✖\u001b[39m \u001b[34mrecipes\u001b[39m::\u001b[32mfixed()\u001b[39m  masks \u001b[34mstringr\u001b[39m::fixed()\n",
      "\u001b[31m✖\u001b[39m \u001b[34mdplyr\u001b[39m::\u001b[32mlag()\u001b[39m      masks \u001b[34mstats\u001b[39m::lag()\n",
      "\u001b[31m✖\u001b[39m \u001b[34myardstick\u001b[39m::\u001b[32mspec()\u001b[39m masks \u001b[34mreadr\u001b[39m::spec()\n",
      "\u001b[31m✖\u001b[39m \u001b[34mrecipes\u001b[39m::\u001b[32mstep()\u001b[39m   masks \u001b[34mstats\u001b[39m::step()\n",
      "\u001b[34m•\u001b[39m Learn how to get started at \u001b[32mhttps://www.tidymodels.org/start/\u001b[39m\n",
      "\n"
     ]
    },
    {
     "ename": "ERROR",
     "evalue": "Error in library(stargazer): there is no package called ‘stargazer’\n",
     "output_type": "error",
     "traceback": [
      "Error in library(stargazer): there is no package called ‘stargazer’\nTraceback:\n",
      "1. library(stargazer)"
     ]
    }
   ],
   "source": [
    "library(cowplot)\n",
    "library(digest)\n",
    "library(gridExtra)\n",
    "library(infer)\n",
    "library(repr)\n",
    "library(taxyvr)\n",
    "library(tidyverse)\n",
    "library(broom)\n",
    "library(ggplot2)\n",
    "library(haven)\n",
    "library(dplyr)\n",
    "library(tidymodels)\n",
    "library(scales)\n",
    "library(gridExtra)\n",
    "library(stargazer)"
   ]
  },
  {
   "cell_type": "code",
   "execution_count": 3,
   "id": "d4648af4-7dee-4416-8c9c-5c145aad6543",
   "metadata": {},
   "outputs": [],
   "source": [
    "read_dta(\"data/01_census2016.dta\") -> data"
   ]
  },
  {
   "cell_type": "code",
   "execution_count": 4,
   "id": "5de9cb8a-81e0-43e3-8d45-0a7f9e1a7464",
   "metadata": {},
   "outputs": [
    {
     "name": "stdout",
     "output_type": "stream",
     "text": [
      "Rows: 391,938\n",
      "Columns: 16\n",
      "$ ppsort  \u001b[3m\u001b[90m<dbl>\u001b[39m\u001b[23m 453141, 732612, 143665, 52611, 36927, 268123, 700087, 488335, …\n",
      "$ agegrp  \u001b[3m\u001b[90m<dbl+lbl>\u001b[39m\u001b[23m 11, 12, 15, 14,  8, 11, 11, 11, 12,  8, 15, 11,  9, 14,  8…\n",
      "$ ageimm  \u001b[3m\u001b[90m<dbl+lbl>\u001b[39m\u001b[23m 99, 99, 99, 99, 99, 99, 99, 99, 99, 99, 99,  2, 99, 99, 99…\n",
      "$ cip2011 \u001b[3m\u001b[90m<dbl+lbl>\u001b[39m\u001b[23m  8,  6,  5, 11, 13, 13,  4, 13,  4, 13, 13,  7,  5, 13, 13…\n",
      "$ fol     \u001b[3m\u001b[90m<dbl+lbl>\u001b[39m\u001b[23m 1, 1, 2, 2, 1, 1, 1, 1, 1, 1, 1, 1, 1, 2, 1, 1, 1, 1, 2, 1…\n",
      "$ hdgree  \u001b[3m\u001b[90m<dbl+lbl>\u001b[39m\u001b[23m  4,  9,  6,  3,  2,  2,  9,  2,  7,  2,  2,  9,  7,  2,  2…\n",
      "$ immstat \u001b[3m\u001b[90m<dbl+lbl>\u001b[39m\u001b[23m 1, 1, 1, 1, 1, 1, 1, 1, 1, 1, 1, 2, 1, 1, 1, 1, 2, 2, 1, 1…\n",
      "$ kol     \u001b[3m\u001b[90m<dbl+lbl>\u001b[39m\u001b[23m 1, 3, 3, 2, 1, 1, 1, 1, 1, 1, 1, 1, 1, 2, 1, 1, 1, 1, 3, 1…\n",
      "$ lfact   \u001b[3m\u001b[90m<dbl+lbl>\u001b[39m\u001b[23m 1, 1, 1, 1, 1, 1, 1, 1, 1, 1, 1, 1, 1, 1, 1, 1, 1, 1, 1, 1…\n",
      "$ locstud \u001b[3m\u001b[90m<dbl+lbl>\u001b[39m\u001b[23m  6,  6,  2,  5, 99, 99,  6, 99,  6, 99, 99,  7,  7, 99, 99…\n",
      "$ mrkinc  \u001b[3m\u001b[90m<dbl>\u001b[39m\u001b[23m 97000, 41000, 30000, 54000, 27000, 40000, 69000, 56000, 3000, …\n",
      "$ pkids   \u001b[3m\u001b[90m<dbl+lbl>\u001b[39m\u001b[23m 1, 1, 0, 0, 1, 1, 1, 1, 1, 1, 9, 1, 9, 9, 9, 1, 1, 1, 0, 1…\n",
      "$ pr      \u001b[3m\u001b[90m<dbl+lbl>\u001b[39m\u001b[23m 35, 35, 11, 24, 35, 35, 35, 10, 35, 35, 59, 59, 46, 24, 59…\n",
      "$ sex     \u001b[3m\u001b[90m<dbl+lbl>\u001b[39m\u001b[23m 2, 1, 1, 2, 2, 2, 1, 1, 1, 2, 1, 2, 2, 1, 1, 2, 2, 1, 2, 2…\n",
      "$ vismin  \u001b[3m\u001b[90m<dbl+lbl>\u001b[39m\u001b[23m 13, 13, 13, 13, 13, 13, 13, 13, 13, 13, 13, 12, 13, 13, 13…\n",
      "$ wages   \u001b[3m\u001b[90m<dbl>\u001b[39m\u001b[23m 95000, 19000, 29000, 52000, 27000, 57000, 70000, 55000, NA, 24…\n"
     ]
    }
   ],
   "source": [
    "glimpse(data)"
   ]
  },
  {
   "cell_type": "code",
   "execution_count": 5,
   "id": "15b501f1-53cc-4dc2-bbe9-7c61a02d25b2",
   "metadata": {},
   "outputs": [
    {
     "data": {
      "text/html": [
       "<table class=\"dataframe\">\n",
       "<caption>A tibble: 6 × 16</caption>\n",
       "<thead>\n",
       "\t<tr><th scope=col>ppsort</th><th scope=col>agegrp</th><th scope=col>ageimm</th><th scope=col>cip2011</th><th scope=col>fol</th><th scope=col>hdgree</th><th scope=col>immstat</th><th scope=col>kol</th><th scope=col>lfact</th><th scope=col>locstud</th><th scope=col>mrkinc</th><th scope=col>pkids</th><th scope=col>pr</th><th scope=col>sex</th><th scope=col>vismin</th><th scope=col>wages</th></tr>\n",
       "\t<tr><th scope=col>&lt;dbl&gt;</th><th scope=col>&lt;dbl+lbl&gt;</th><th scope=col>&lt;dbl+lbl&gt;</th><th scope=col>&lt;dbl+lbl&gt;</th><th scope=col>&lt;dbl+lbl&gt;</th><th scope=col>&lt;dbl+lbl&gt;</th><th scope=col>&lt;dbl+lbl&gt;</th><th scope=col>&lt;dbl+lbl&gt;</th><th scope=col>&lt;dbl+lbl&gt;</th><th scope=col>&lt;dbl+lbl&gt;</th><th scope=col>&lt;dbl&gt;</th><th scope=col>&lt;dbl+lbl&gt;</th><th scope=col>&lt;dbl+lbl&gt;</th><th scope=col>&lt;dbl+lbl&gt;</th><th scope=col>&lt;dbl+lbl&gt;</th><th scope=col>&lt;dbl&gt;</th></tr>\n",
       "</thead>\n",
       "<tbody>\n",
       "\t<tr><td>453141</td><td>11</td><td>99</td><td> 8</td><td>1</td><td>4</td><td>1</td><td>1</td><td>1</td><td> 6</td><td>97000</td><td>1</td><td>35</td><td>2</td><td>13</td><td>95000</td></tr>\n",
       "\t<tr><td>732612</td><td>12</td><td>99</td><td> 6</td><td>1</td><td>9</td><td>1</td><td>3</td><td>1</td><td> 6</td><td>41000</td><td>1</td><td>35</td><td>1</td><td>13</td><td>19000</td></tr>\n",
       "\t<tr><td>143665</td><td>15</td><td>99</td><td> 5</td><td>2</td><td>6</td><td>1</td><td>3</td><td>1</td><td> 2</td><td>30000</td><td>0</td><td>11</td><td>1</td><td>13</td><td>29000</td></tr>\n",
       "\t<tr><td> 52611</td><td>14</td><td>99</td><td>11</td><td>2</td><td>3</td><td>1</td><td>2</td><td>1</td><td> 5</td><td>54000</td><td>0</td><td>24</td><td>2</td><td>13</td><td>52000</td></tr>\n",
       "\t<tr><td> 36927</td><td> 8</td><td>99</td><td>13</td><td>1</td><td>2</td><td>1</td><td>1</td><td>1</td><td>99</td><td>27000</td><td>1</td><td>35</td><td>2</td><td>13</td><td>27000</td></tr>\n",
       "\t<tr><td>268123</td><td>11</td><td>99</td><td>13</td><td>1</td><td>2</td><td>1</td><td>1</td><td>1</td><td>99</td><td>40000</td><td>1</td><td>35</td><td>2</td><td>13</td><td>57000</td></tr>\n",
       "</tbody>\n",
       "</table>\n"
      ],
      "text/latex": [
       "A tibble: 6 × 16\n",
       "\\begin{tabular}{llllllllllllllll}\n",
       " ppsort & agegrp & ageimm & cip2011 & fol & hdgree & immstat & kol & lfact & locstud & mrkinc & pkids & pr & sex & vismin & wages\\\\\n",
       " <dbl> & <dbl+lbl> & <dbl+lbl> & <dbl+lbl> & <dbl+lbl> & <dbl+lbl> & <dbl+lbl> & <dbl+lbl> & <dbl+lbl> & <dbl+lbl> & <dbl> & <dbl+lbl> & <dbl+lbl> & <dbl+lbl> & <dbl+lbl> & <dbl>\\\\\n",
       "\\hline\n",
       "\t 453141 & 11 & 99 &  8 & 1 & 4 & 1 & 1 & 1 &  6 & 97000 & 1 & 35 & 2 & 13 & 95000\\\\\n",
       "\t 732612 & 12 & 99 &  6 & 1 & 9 & 1 & 3 & 1 &  6 & 41000 & 1 & 35 & 1 & 13 & 19000\\\\\n",
       "\t 143665 & 15 & 99 &  5 & 2 & 6 & 1 & 3 & 1 &  2 & 30000 & 0 & 11 & 1 & 13 & 29000\\\\\n",
       "\t  52611 & 14 & 99 & 11 & 2 & 3 & 1 & 2 & 1 &  5 & 54000 & 0 & 24 & 2 & 13 & 52000\\\\\n",
       "\t  36927 &  8 & 99 & 13 & 1 & 2 & 1 & 1 & 1 & 99 & 27000 & 1 & 35 & 2 & 13 & 27000\\\\\n",
       "\t 268123 & 11 & 99 & 13 & 1 & 2 & 1 & 1 & 1 & 99 & 40000 & 1 & 35 & 2 & 13 & 57000\\\\\n",
       "\\end{tabular}\n"
      ],
      "text/markdown": [
       "\n",
       "A tibble: 6 × 16\n",
       "\n",
       "| ppsort &lt;dbl&gt; | agegrp &lt;dbl+lbl&gt; | ageimm &lt;dbl+lbl&gt; | cip2011 &lt;dbl+lbl&gt; | fol &lt;dbl+lbl&gt; | hdgree &lt;dbl+lbl&gt; | immstat &lt;dbl+lbl&gt; | kol &lt;dbl+lbl&gt; | lfact &lt;dbl+lbl&gt; | locstud &lt;dbl+lbl&gt; | mrkinc &lt;dbl&gt; | pkids &lt;dbl+lbl&gt; | pr &lt;dbl+lbl&gt; | sex &lt;dbl+lbl&gt; | vismin &lt;dbl+lbl&gt; | wages &lt;dbl&gt; |\n",
       "|---|---|---|---|---|---|---|---|---|---|---|---|---|---|---|---|\n",
       "| 453141 | 11 | 99 |  8 | 1 | 4 | 1 | 1 | 1 |  6 | 97000 | 1 | 35 | 2 | 13 | 95000 |\n",
       "| 732612 | 12 | 99 |  6 | 1 | 9 | 1 | 3 | 1 |  6 | 41000 | 1 | 35 | 1 | 13 | 19000 |\n",
       "| 143665 | 15 | 99 |  5 | 2 | 6 | 1 | 3 | 1 |  2 | 30000 | 0 | 11 | 1 | 13 | 29000 |\n",
       "|  52611 | 14 | 99 | 11 | 2 | 3 | 1 | 2 | 1 |  5 | 54000 | 0 | 24 | 2 | 13 | 52000 |\n",
       "|  36927 |  8 | 99 | 13 | 1 | 2 | 1 | 1 | 1 | 99 | 27000 | 1 | 35 | 2 | 13 | 27000 |\n",
       "| 268123 | 11 | 99 | 13 | 1 | 2 | 1 | 1 | 1 | 99 | 40000 | 1 | 35 | 2 | 13 | 57000 |\n",
       "\n"
      ],
      "text/plain": [
       "  ppsort agegrp ageimm cip2011 fol hdgree immstat kol lfact locstud mrkinc\n",
       "1 453141 11     99      8      1   4      1       1   1      6      97000 \n",
       "2 732612 12     99      6      1   9      1       3   1      6      41000 \n",
       "3 143665 15     99      5      2   6      1       3   1      2      30000 \n",
       "4  52611 14     99     11      2   3      1       2   1      5      54000 \n",
       "5  36927  8     99     13      1   2      1       1   1     99      27000 \n",
       "6 268123 11     99     13      1   2      1       1   1     99      40000 \n",
       "  pkids pr sex vismin wages\n",
       "1 1     35 2   13     95000\n",
       "2 1     35 1   13     19000\n",
       "3 0     11 1   13     29000\n",
       "4 0     24 2   13     52000\n",
       "5 1     35 2   13     27000\n",
       "6 1     35 2   13     57000"
      ]
     },
     "metadata": {},
     "output_type": "display_data"
    }
   ],
   "source": [
    "head(data)"
   ]
  },
  {
   "cell_type": "code",
   "execution_count": 7,
   "id": "673e26a3-2f71-42ba-ac55-aa28873d1682",
   "metadata": {},
   "outputs": [
    {
     "data": {
      "text/html": [
       "<table class=\"dataframe\">\n",
       "<caption>A tibble: 6 × 2</caption>\n",
       "<thead>\n",
       "\t<tr><th scope=col>wages</th><th scope=col>sex</th></tr>\n",
       "\t<tr><th scope=col>&lt;dbl&gt;</th><th scope=col>&lt;dbl+lbl&gt;</th></tr>\n",
       "</thead>\n",
       "<tbody>\n",
       "\t<tr><td>95000</td><td>2</td></tr>\n",
       "\t<tr><td>19000</td><td>1</td></tr>\n",
       "\t<tr><td>29000</td><td>1</td></tr>\n",
       "\t<tr><td>52000</td><td>2</td></tr>\n",
       "\t<tr><td>27000</td><td>2</td></tr>\n",
       "\t<tr><td>57000</td><td>2</td></tr>\n",
       "</tbody>\n",
       "</table>\n"
      ],
      "text/latex": [
       "A tibble: 6 × 2\n",
       "\\begin{tabular}{ll}\n",
       " wages & sex\\\\\n",
       " <dbl> & <dbl+lbl>\\\\\n",
       "\\hline\n",
       "\t 95000 & 2\\\\\n",
       "\t 19000 & 1\\\\\n",
       "\t 29000 & 1\\\\\n",
       "\t 52000 & 2\\\\\n",
       "\t 27000 & 2\\\\\n",
       "\t 57000 & 2\\\\\n",
       "\\end{tabular}\n"
      ],
      "text/markdown": [
       "\n",
       "A tibble: 6 × 2\n",
       "\n",
       "| wages &lt;dbl&gt; | sex &lt;dbl+lbl&gt; |\n",
       "|---|---|\n",
       "| 95000 | 2 |\n",
       "| 19000 | 1 |\n",
       "| 29000 | 1 |\n",
       "| 52000 | 2 |\n",
       "| 27000 | 2 |\n",
       "| 57000 | 2 |\n",
       "\n"
      ],
      "text/plain": [
       "  wages sex\n",
       "1 95000 2  \n",
       "2 19000 1  \n",
       "3 29000 1  \n",
       "4 52000 2  \n",
       "5 27000 2  \n",
       "6 57000 2  "
      ]
     },
     "metadata": {},
     "output_type": "display_data"
    }
   ],
   "source": [
    "data<- data|>\n",
    "select(wages,sex)\n",
    "head(data)"
   ]
  },
  {
   "cell_type": "code",
   "execution_count": null,
   "id": "50df3005-d5b3-45a6-a571-75c5de21b85d",
   "metadata": {},
   "outputs": [],
   "source": []
  }
 ],
 "metadata": {
  "kernelspec": {
   "display_name": "R",
   "language": "R",
   "name": "ir"
  },
  "language_info": {
   "codemirror_mode": "r",
   "file_extension": ".r",
   "mimetype": "text/x-r-source",
   "name": "R",
   "pygments_lexer": "r",
   "version": "4.1.3"
  }
 },
 "nbformat": 4,
 "nbformat_minor": 5
}
