{
 "cells": [
  {
   "cell_type": "markdown",
   "id": "82a8b2bc-6b90-4fa5-b17e-eac9fdb6c666",
   "metadata": {},
   "source": [
    "# Group Project Proposal"
   ]
  },
  {
   "cell_type": "markdown",
   "id": "add574d4-3edd-4caf-87bf-7ba56d91c3a7",
   "metadata": {},
   "source": [
    "### Group24: Haibin Yu, Eric Zhang, Muhan Yang, Shuhao Zhang"
   ]
  },
  {
   "cell_type": "markdown",
   "id": "e2622553-36e0-4013-b91a-68ef255ea61c",
   "metadata": {},
   "source": [
    "## Title"
   ]
  },
  {
   "cell_type": "markdown",
   "id": "2d7ea01e-8c5b-4cb6-a896-1d535aae2802",
   "metadata": {},
   "source": [
    "Whether there is gender inequality between the wages of men and women in Canada."
   ]
  },
  {
   "cell_type": "markdown",
   "id": "4b161365-cc33-41a1-b2ae-ea5fc83fe7c9",
   "metadata": {
    "tags": []
   },
   "source": [
    "## Introduction"
   ]
  },
  {
   "cell_type": "markdown",
   "id": "809ddc14-ec5d-412b-a43e-7b8175bc7427",
   "metadata": {},
   "source": [
    "## Preliminary Results"
   ]
  },
  {
   "cell_type": "code",
   "execution_count": 4,
   "id": "cb829533-0519-4688-b1ff-5f4c87340ae5",
   "metadata": {},
   "outputs": [],
   "source": [
    "library(tidyverse)\n",
    "library(broom)\n",
    "library(repr)\n",
    "library(digest)\n",
    "library(infer)\n",
    "library(gridExtra)\n",
    "library(haven)"
   ]
  },
  {
   "cell_type": "code",
   "execution_count": 5,
   "id": "d4648af4-7dee-4416-8c9c-5c145aad6543",
   "metadata": {},
   "outputs": [],
   "source": [
    "read_dta(\"data/01_census2016.dta\") -> data"
   ]
  },
  {
   "cell_type": "code",
   "execution_count": 6,
   "id": "5de9cb8a-81e0-43e3-8d45-0a7f9e1a7464",
   "metadata": {},
   "outputs": [
    {
     "name": "stdout",
     "output_type": "stream",
     "text": [
      "Rows: 391,938\n",
      "Columns: 16\n",
      "$ ppsort  \u001b[3m\u001b[90m<dbl>\u001b[39m\u001b[23m 453141, 732612, 143665, 52611, 36927, 268123, 700087, 488335, …\n",
      "$ agegrp  \u001b[3m\u001b[90m<dbl+lbl>\u001b[39m\u001b[23m 11, 12, 15, 14,  8, 11, 11, 11, 12,  8, 15, 11,  9, 14,  8…\n",
      "$ ageimm  \u001b[3m\u001b[90m<dbl+lbl>\u001b[39m\u001b[23m 99, 99, 99, 99, 99, 99, 99, 99, 99, 99, 99,  2, 99, 99, 99…\n",
      "$ cip2011 \u001b[3m\u001b[90m<dbl+lbl>\u001b[39m\u001b[23m  8,  6,  5, 11, 13, 13,  4, 13,  4, 13, 13,  7,  5, 13, 13…\n",
      "$ fol     \u001b[3m\u001b[90m<dbl+lbl>\u001b[39m\u001b[23m 1, 1, 2, 2, 1, 1, 1, 1, 1, 1, 1, 1, 1, 2, 1, 1, 1, 1, 2, 1…\n",
      "$ hdgree  \u001b[3m\u001b[90m<dbl+lbl>\u001b[39m\u001b[23m  4,  9,  6,  3,  2,  2,  9,  2,  7,  2,  2,  9,  7,  2,  2…\n",
      "$ immstat \u001b[3m\u001b[90m<dbl+lbl>\u001b[39m\u001b[23m 1, 1, 1, 1, 1, 1, 1, 1, 1, 1, 1, 2, 1, 1, 1, 1, 2, 2, 1, 1…\n",
      "$ kol     \u001b[3m\u001b[90m<dbl+lbl>\u001b[39m\u001b[23m 1, 3, 3, 2, 1, 1, 1, 1, 1, 1, 1, 1, 1, 2, 1, 1, 1, 1, 3, 1…\n",
      "$ lfact   \u001b[3m\u001b[90m<dbl+lbl>\u001b[39m\u001b[23m 1, 1, 1, 1, 1, 1, 1, 1, 1, 1, 1, 1, 1, 1, 1, 1, 1, 1, 1, 1…\n",
      "$ locstud \u001b[3m\u001b[90m<dbl+lbl>\u001b[39m\u001b[23m  6,  6,  2,  5, 99, 99,  6, 99,  6, 99, 99,  7,  7, 99, 99…\n",
      "$ mrkinc  \u001b[3m\u001b[90m<dbl>\u001b[39m\u001b[23m 97000, 41000, 30000, 54000, 27000, 40000, 69000, 56000, 3000, …\n",
      "$ pkids   \u001b[3m\u001b[90m<dbl+lbl>\u001b[39m\u001b[23m 1, 1, 0, 0, 1, 1, 1, 1, 1, 1, 9, 1, 9, 9, 9, 1, 1, 1, 0, 1…\n",
      "$ pr      \u001b[3m\u001b[90m<dbl+lbl>\u001b[39m\u001b[23m 35, 35, 11, 24, 35, 35, 35, 10, 35, 35, 59, 59, 46, 24, 59…\n",
      "$ sex     \u001b[3m\u001b[90m<dbl+lbl>\u001b[39m\u001b[23m 2, 1, 1, 2, 2, 2, 1, 1, 1, 2, 1, 2, 2, 1, 1, 2, 2, 1, 2, 2…\n",
      "$ vismin  \u001b[3m\u001b[90m<dbl+lbl>\u001b[39m\u001b[23m 13, 13, 13, 13, 13, 13, 13, 13, 13, 13, 13, 12, 13, 13, 13…\n",
      "$ wages   \u001b[3m\u001b[90m<dbl>\u001b[39m\u001b[23m 95000, 19000, 29000, 52000, 27000, 57000, 70000, 55000, NA, 24…\n"
     ]
    }
   ],
   "source": [
    "glimpse(data)"
   ]
  },
  {
   "cell_type": "code",
   "execution_count": 7,
   "id": "673e26a3-2f71-42ba-ac55-aa28873d1682",
   "metadata": {},
   "outputs": [
    {
     "data": {
      "text/html": [
       "<table class=\"dataframe\">\n",
       "<caption>A tibble: 6 × 2</caption>\n",
       "<thead>\n",
       "\t<tr><th scope=col>wages</th><th scope=col>sex</th></tr>\n",
       "\t<tr><th scope=col>&lt;dbl&gt;</th><th scope=col>&lt;dbl+lbl&gt;</th></tr>\n",
       "</thead>\n",
       "<tbody>\n",
       "\t<tr><td>95000</td><td>2</td></tr>\n",
       "\t<tr><td>19000</td><td>1</td></tr>\n",
       "\t<tr><td>29000</td><td>1</td></tr>\n",
       "\t<tr><td>52000</td><td>2</td></tr>\n",
       "\t<tr><td>27000</td><td>2</td></tr>\n",
       "\t<tr><td>57000</td><td>2</td></tr>\n",
       "</tbody>\n",
       "</table>\n"
      ],
      "text/latex": [
       "A tibble: 6 × 2\n",
       "\\begin{tabular}{ll}\n",
       " wages & sex\\\\\n",
       " <dbl> & <dbl+lbl>\\\\\n",
       "\\hline\n",
       "\t 95000 & 2\\\\\n",
       "\t 19000 & 1\\\\\n",
       "\t 29000 & 1\\\\\n",
       "\t 52000 & 2\\\\\n",
       "\t 27000 & 2\\\\\n",
       "\t 57000 & 2\\\\\n",
       "\\end{tabular}\n"
      ],
      "text/markdown": [
       "\n",
       "A tibble: 6 × 2\n",
       "\n",
       "| wages &lt;dbl&gt; | sex &lt;dbl+lbl&gt; |\n",
       "|---|---|\n",
       "| 95000 | 2 |\n",
       "| 19000 | 1 |\n",
       "| 29000 | 1 |\n",
       "| 52000 | 2 |\n",
       "| 27000 | 2 |\n",
       "| 57000 | 2 |\n",
       "\n"
      ],
      "text/plain": [
       "  wages sex\n",
       "1 95000 2  \n",
       "2 19000 1  \n",
       "3 29000 1  \n",
       "4 52000 2  \n",
       "5 27000 2  \n",
       "6 57000 2  "
      ]
     },
     "metadata": {},
     "output_type": "display_data"
    }
   ],
   "source": [
    "data<- data|>\n",
    "select(wages,sex)\n",
    "head(data)"
   ]
  },
  {
   "cell_type": "markdown",
   "id": "6cb3bfd6-3212-4293-be31-74a6fc7ea37b",
   "metadata": {},
   "source": [
    "## Methods: Plan"
   ]
  },
  {
   "cell_type": "markdown",
   "id": "340b03a1-3d3f-4e4b-9436-62e5231188d2",
   "metadata": {},
   "source": [
    "## References"
   ]
  },
  {
   "cell_type": "code",
   "execution_count": null,
   "id": "2dfe8fa2-1e07-4e51-9e4b-ec81d982d7c1",
   "metadata": {},
   "outputs": [],
   "source": []
  }
 ],
 "metadata": {
  "kernelspec": {
   "display_name": "R",
   "language": "R",
   "name": "ir"
  },
  "language_info": {
   "codemirror_mode": "r",
   "file_extension": ".r",
   "mimetype": "text/x-r-source",
   "name": "R",
   "pygments_lexer": "r",
   "version": "4.1.3"
  }
 },
 "nbformat": 4,
 "nbformat_minor": 5
}
